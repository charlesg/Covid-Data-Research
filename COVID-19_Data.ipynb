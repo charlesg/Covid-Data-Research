{
 "cells": [
  {
   "cell_type": "markdown",
   "metadata": {
    "cell_id": "5bcb5434-0b8f-4a86-9e88-bafe78051939",
    "tags": []
   },
   "source": [
    "## COVID-19 by the numbers\n",
    "\n",
    "From https://towardsdatascience.com/analyzing-coronavirus-covid-19-data-using-pandas-and-plotly-2e34fe2c4edc\n"
   ]
  },
  {
   "cell_type": "code",
   "execution_count": 14,
   "metadata": {
    "cell_id": "b3990291-8951-44de-bef6-32e95b526d96",
    "tags": []
   },
   "outputs": [
    {
     "name": "stdout",
     "output_type": "stream",
     "text": [
      "Python 3.7.3\r\n"
     ]
    }
   ],
   "source": [
    "!python --version"
   ]
  },
  {
   "cell_type": "markdown",
   "metadata": {
    "cell_id": "218b3a2c-311f-4eab-8cdd-0cdee13e7dce",
    "tags": []
   },
   "source": [
    "## Intro\n",
    "\n",
    "First we must download the csvs from CCSE at John Hopkins. From this download, we get:\n",
    "* Dates (as columns)\n",
    "* Total Confirmed Cases\n",
    "* Province\n",
    "* Countries\n",
    "* Latitude and Longitude"
   ]
  },
  {
   "cell_type": "code",
   "execution_count": 2,
   "metadata": {
    "cell_id": "f534a11c-e127-4d3b-a5d7-9d82e4d2b779",
    "tags": []
   },
   "outputs": [],
   "source": [
    "#!pip install plotly\n",
    "## Import Libraries\n",
    "import numpy as np\n",
    "import pandas as pd\n",
    "import matplotlib.pyplot as plt\n",
    "from pandas.plotting import register_matplotlib_converters\n",
    "register_matplotlib_converters()\n",
    "#%matplotlib inline\n",
    "\n",
    "import chart_studio\n",
    "chart_studio.tools.set_credentials_file(username='charlesg', api_key='Kt7MUY4S3n9FSvMKUCPO')\n",
    "\n",
    "import chart_studio.plotly as py\n",
    "import plotly.express as px\n",
    "import plotly.graph_objects as go\n",
    "from plotly.subplots import make_subplots\n",
    "plt.rcParams['figure.figsize'] = [15, 5]\n",
    "from IPython import display\n",
    "from ipywidgets import interact, widgets\n",
    "\n",
    "## Read Data for Cases, Deaths and Recoveries\n",
    "ConfirmedCases_raw=pd.read_csv('https://raw.githubusercontent.com/CSSEGISandData/COVID-19/master/csse_covid_19_data/csse_covid_19_time_series/time_series_covid19_confirmed_global.csv')\n",
    "Deaths_raw=pd.read_csv('https://raw.githubusercontent.com/CSSEGISandData/COVID-19/master/csse_covid_19_data/csse_covid_19_time_series/time_series_covid19_deaths_global.csv')\n",
    "#Recoveries_raw=pd.read_csv('https://raw.githubusercontent.com/CSSEGISandData/COVID-19/master/csse_covid_19_data/csse_covid_19_time_series/time_series_19-covid-Recovered.csv')\n"
   ]
  },
  {
   "cell_type": "markdown",
   "source": [
    "# Chart-Studio\n",
    "\n",
    "Chart-studio will be used to upload the images resulting in order to make presentations."
   ],
   "metadata": {
    "collapsed": false,
    "pycharm": {
     "name": "#%% md\n"
    }
   }
  },
  {
   "cell_type": "code",
   "execution_count": 3,
   "outputs": [],
   "source": [
    "# Chart-Studio integration\n",
    "# Kt7MUY4S3n9FSvMKUCPO\n",
    "\n",
    "import chart_studio\n",
    "chart_studio.tools.set_credentials_file(username='charlesg', api_key='Kt7MUY4S3n9FSvMKUCPO')\n"
   ],
   "metadata": {
    "collapsed": false,
    "pycharm": {
     "name": "#%%\n"
    }
   }
  },
  {
   "cell_type": "markdown",
   "metadata": {
    "cell_id": "fcbf755b-58ef-407a-908a-dd4f7b6f3ff2",
    "tags": []
   },
   "source": [
    "## Step 1 - cleanup\n",
    "\n",
    "We use the pandas melt function to reshape the dates in one column and we setup indices on dates and countries. The datsets are now cleaner and much easier to plot."
   ]
  },
  {
   "cell_type": "code",
   "execution_count": 4,
   "metadata": {
    "cell_id": "4ede26a2-7a6d-4b08-81e7-efa5ac25684b",
    "tags": []
   },
   "outputs": [],
   "source": [
    "### Melt the dateframe into the right shape and set index\n",
    "def cleandata(df_raw):\n",
    "    df_cleaned=df_raw.melt(id_vars=['Province/State','Country/Region','Lat','Long'],value_name='Cases',var_name='Date')\n",
    "    df_cleaned=df_cleaned.set_index(['Country/Region','Province/State','Date'])\n",
    "    return df_cleaned \n",
    "\n",
    "# Clean all datasets\n",
    "ConfirmedCases=cleandata(ConfirmedCases_raw)\n",
    "Deaths=cleandata(Deaths_raw)\n",
    "#Recoveries=cleandata(Recoveries_raw)"
   ]
  },
  {
   "cell_type": "markdown",
   "metadata": {
    "cell_id": "d0b448ce-200f-4297-a713-94c82026ca47",
    "tags": []
   },
   "source": [
    "## Step 2 - Organize\n",
    "\n",
    "We create a consolidated dataset that combines the datasets for Cases, Deaths and Recoveries. We also created a function to get daily count from the cumulative data. We use the following code for the processing. Finaly, the Consolidated dataset has the index as country and date and each of the metric as a column.\n",
    "\n",
    "All the \"Recoveries\" related content was removed since the update in the date structure.\n"
   ]
  },
  {
   "cell_type": "code",
   "execution_count": 5,
   "metadata": {
    "cell_id": "b59e946f-ea5b-4733-a9cd-64b3bf099568",
    "tags": []
   },
   "outputs": [],
   "source": [
    "### Get Countrywise Data\n",
    "def countrydata(df_cleaned,oldname,newname):\n",
    "    df_country=df_cleaned.groupby(['Country/Region','Date'])['Cases'].sum().reset_index()\n",
    "    df_country=df_country.set_index(['Country/Region','Date'])\n",
    "    df_country.index=df_country.index.set_levels([df_country.index.levels[0], pd.to_datetime(df_country.index.levels[1])])\n",
    "    df_country=df_country.sort_values(['Country/Region','Date'],ascending=True)\n",
    "    df_country=df_country.rename(columns={oldname:newname})\n",
    "    return df_country\n",
    "  \n",
    "ConfirmedCasesCountry=countrydata(ConfirmedCases,'Cases','Total Confirmed Cases')\n",
    "DeathsCountry=countrydata(Deaths,'Cases','Total Deaths')\n",
    "#RecoveriesCountry=countrydata(Recoveries,'Cases','Total Recoveries')\n",
    "\n",
    "### Get DailyData from Cumulative sum\n",
    "def dailydata(dfcountry,oldname,newname):\n",
    "    dfcountrydaily=dfcountry.groupby(level=0).diff().fillna(0)\n",
    "    dfcountrydaily=dfcountrydaily.rename(columns={oldname:newname})\n",
    "    return dfcountrydaily\n",
    "\n",
    "NewCasesCountry=dailydata(ConfirmedCasesCountry,'Total Confirmed Cases','Daily New Cases')\n",
    "NewDeathsCountry=dailydata(DeathsCountry,'Total Deaths','Daily New Deaths')\n",
    "#NewRecoveriesCountry=dailydata(RecoveriesCountry,'Total Recoveries','Daily New Recoveries')\n",
    "\n",
    "CountryConsolidated=pd.merge(ConfirmedCasesCountry,NewCasesCountry,how='left',left_index=True,right_index=True)\n",
    "CountryConsolidated=pd.merge(CountryConsolidated,NewDeathsCountry,how='left',left_index=True,right_index=True)\n",
    "CountryConsolidated=pd.merge(CountryConsolidated,DeathsCountry,how='left',left_index=True,right_index=True)\n",
    "#CountryConsolidated=pd.merge(CountryConsolidated,RecoveriesCountry,how='left',left_index=True,right_index=True)\n",
    "#CountryConsolidated=pd.merge(CountryConsolidated,NewRecoveriesCountry,how='left',left_index=True,right_index=True)\n",
    "#CountryConsolidated['Active Cases']=CountryConsolidated['Total Confirmed Cases']-CountryConsolidated['Total Deaths']-CountryConsolidated['Total Recoveries']\n",
    "#CountryConsolidated['Share of Recoveries - Closed Cases']=np.round(CountryConsolidated['Total Recoveries']/(CountryConsolidated['Total Recoveries']+CountryConsolidated['Total Deaths']),2)\n",
    "CountryConsolidated['Death to Cases Ratio']=np.round(CountryConsolidated['Total Deaths']/CountryConsolidated['Total Confirmed Cases'],3)\n",
    "\n"
   ]
  },
  {
   "cell_type": "markdown",
   "metadata": {
    "cell_id": "f3ac142d-7fee-4906-ae95-3504ddd6ca54",
    "tags": []
   },
   "source": [
    "## Step 3 - Global Data Plots\n",
    "\n",
    "We plot:\n",
    "* Confirmed Cases\n",
    "* Active Cases\n",
    "* Deaths\n",
    "* Recoveries\n",
    "* and the \"Death to Case\" ratio\n",
    "\n",
    "All using global data combined."
   ]
  },
  {
   "cell_type": "code",
   "execution_count": 6,
   "metadata": {
    "cell_id": "97ad703f-6f08-4082-8d08-9c0f3aad51ad",
    "tags": []
   },
   "outputs": [
    {
     "data": {
      "text/plain": "<IPython.lib.display.IFrame at 0x116b88828>",
      "text/html": "\n        <iframe\n            width=\"100%\"\n            height=\"525px\"\n            src=\"https://plotly.com/~charlesg/9.embed\"\n            frameborder=\"0\"\n            allowfullscreen\n        ></iframe>\n        "
     },
     "execution_count": 6,
     "metadata": {},
     "output_type": "execute_result"
    }
   ],
   "source": [
    "## Get totals for all metrics\n",
    "GlobalTotals=CountryConsolidated.reset_index().groupby('Date').sum()\n",
    "GlobalTotals['Death to Cases Ratio']=np.round(GlobalTotals['Total Deaths']/GlobalTotals['Total Confirmed Cases'],3)\n",
    "GlobalTotals.tail(2)\n",
    "\n",
    "# Create Plots that show Key Metrics For the Covid-19\n",
    "chartcol='red'\n",
    "fig = make_subplots(rows=2, cols=2,shared_xaxes=True,\n",
    "                    specs=[[{}, {}],[{\"colspan\": 2}, None]],\n",
    "                    subplot_titles=('Total Confirmed Cases','Deaths','Death to Cases Ratio'))\n",
    "fig.add_trace(go.Scatter(x=GlobalTotals.index,y=GlobalTotals['Total Confirmed Cases'],\n",
    "                         mode='lines+markers',\n",
    "                         name='Confirmed Cases',\n",
    "                         line=dict(color=chartcol,width=2)),\n",
    "                         row=1,col=1)\n",
    "fig.add_trace(go.Scatter(x=GlobalTotals.index,y=GlobalTotals['Total Deaths'],\n",
    "                         mode='lines+markers',\n",
    "                         name='Deaths',\n",
    "                         line=dict(color=chartcol,width=2)),\n",
    "                         row=1,col=2)\n",
    "fig.add_trace(go.Scatter(x=GlobalTotals.index,y=GlobalTotals['Death to Cases Ratio'],\n",
    "                         mode='lines+markers',\n",
    "                         line=dict(color=chartcol,width=2)),\n",
    "                         row=2,col=1)\n",
    "fig.update_layout(showlegend=False)\n",
    "fig.update_layout()\n",
    "py.iplot(fig,filename='Global COVID-19 Data')"
   ]
  },
  {
   "cell_type": "markdown",
   "metadata": {
    "cell_id": "229e07cc-9f54-4787-8fe5-4c3e5d536321",
    "tags": []
   },
   "source": [
    "## Step 4 - Top 10 Countries by \"Total Confirmed Cases\"\n",
    "\n",
    "From the global data, we sort the 10 worst countries in terms of number of cases."
   ]
  },
  {
   "cell_type": "code",
   "execution_count": 7,
   "metadata": {
    "cell_id": "fc92845c-53f9-4eac-ad14-28ad85d0297f",
    "tags": []
   },
   "outputs": [
    {
     "data": {
      "text/plain": "<IPython.lib.display.IFrame at 0x1168d8588>",
      "text/html": "\n        <iframe\n            width=\"100%\"\n            height=\"525px\"\n            src=\"https://plotly.com/~charlesg/12.embed\"\n            frameborder=\"0\"\n            allowfullscreen\n        ></iframe>\n        "
     },
     "execution_count": 7,
     "metadata": {},
     "output_type": "execute_result"
    }
   ],
   "source": [
    "TotalCasesCountry=CountryConsolidated.max(level=0)['Total Confirmed Cases'].reset_index().set_index('Country/Region')\n",
    "TotalCasesCountry=TotalCasesCountry.sort_values(by='Total Confirmed Cases',ascending=False)\n",
    "TotalCasesCountryexclChina=TotalCasesCountry[~TotalCasesCountry.index.isin(['Others'])]\n",
    "Top10countriesbycasesexclChina=TotalCasesCountryexclChina.head(10)\n",
    "TotalCasesCountrytop10=TotalCasesCountry.head(10)\n",
    "fig = go.Figure(go.Bar(x=Top10countriesbycasesexclChina.index, y=Top10countriesbycasesexclChina['Total Confirmed Cases'],\n",
    "                      text=Top10countriesbycasesexclChina['Total Confirmed Cases'],\n",
    "            textposition='outside'))\n",
    "fig.update_layout(title_text='Top 10 Countries by Total Confirmed Cases')\n",
    "fig.update_yaxes(showticklabels=False)\n",
    "\n",
    "py.iplot(fig,filename='Top 10 Countries by Confirmed Cases')\n"
   ]
  },
  {
   "cell_type": "markdown",
   "metadata": {
    "cell_id": "187da32b-07e7-41c1-b1a3-a4993a2c6b72",
    "tags": []
   },
   "source": [
    "## Step 5 - Comparing Countries\n",
    "\n",
    "We compare data from 8 countries in terms of **Total Confirmed Cases**."
   ]
  },
  {
   "cell_type": "code",
   "execution_count": 8,
   "metadata": {
    "cell_id": "c241ff85-820f-4729-8d72-55c866ce7566",
    "tags": []
   },
   "outputs": [],
   "source": [
    "\n",
    "ChinaFirstCase=CountryConsolidated.loc['China']['Total Confirmed Cases'].reset_index().set_index('Date')\n",
    "SpainFirstCase=CountryConsolidated.loc['Spain']['Total Confirmed Cases'].reset_index().set_index('Date')\n",
    "ItalyFirstCase=CountryConsolidated.loc['Italy']['Total Confirmed Cases'].reset_index().set_index('Date')\n",
    "SKFirstCase=CountryConsolidated.loc['Korea, South']['Total Confirmed Cases'].reset_index().set_index('Date')\n",
    "IranFirstCase=CountryConsolidated.loc['Iran']['Total Confirmed Cases'].reset_index().set_index('Date')\n",
    "GermanyFirstCase=CountryConsolidated.loc['Germany']['Total Confirmed Cases'].reset_index().set_index('Date')\n",
    "SingaporeFirstCase=CountryConsolidated.loc['Singapore']['Total Confirmed Cases'].reset_index().set_index('Date')\n",
    "USFirstCase=CountryConsolidated.loc['US']['Total Confirmed Cases'].reset_index().set_index('Date')\n",
    "CanadaFirstCase=CountryConsolidated.loc['Canada']['Total Confirmed Cases'].reset_index().set_index('Date')\n",
    "ChileFirstCase=CountryConsolidated.loc['Chile']['Total Confirmed Cases'].reset_index().set_index('Date')\n",
    "BrazilFirstCase=CountryConsolidated.loc['Brazil']['Total Confirmed Cases'].reset_index().set_index('Date')\n",
    "\n",
    "ChinaGrowth=ChinaFirstCase[ChinaFirstCase.ne(0)].dropna().reset_index()\n",
    "SpainGrowth=SpainFirstCase[SpainFirstCase.ne(0)].dropna().reset_index()\n",
    "ItalyGrowth=ItalyFirstCase[ItalyFirstCase.ne(0)].dropna().reset_index()\n",
    "SKGrowth=SKFirstCase[SKFirstCase.ne(0)].dropna().reset_index()\n",
    "IranGrowth=IranFirstCase[IranFirstCase.ne(0)].dropna().reset_index()\n",
    "GermanyGrowth=GermanyFirstCase[GermanyFirstCase.ne(0)].dropna().reset_index()\n",
    "SingaporeGrowth=SingaporeFirstCase[SingaporeFirstCase.ne(0)].dropna().reset_index()\n",
    "USGrowth=USFirstCase[USFirstCase.ne(0)].dropna().reset_index()\n",
    "CanadaGrowth=CanadaFirstCase[CanadaFirstCase.ne(0)].dropna().reset_index()\n",
    "ChileGrowth=ChileFirstCase[ChileFirstCase.ne(0)].dropna().reset_index()\n",
    "BrazilGrowth=BrazilFirstCase[BrazilFirstCase.ne(0)].dropna().reset_index()"
   ]
  },
  {
   "cell_type": "code",
   "execution_count": 9,
   "metadata": {
    "cell_id": "a1bdf66e-ee57-4682-b733-129c43483e9e",
    "tags": []
   },
   "outputs": [
    {
     "data": {
      "text/plain": "<IPython.lib.display.IFrame at 0x116b88c50>",
      "text/html": "\n        <iframe\n            width=\"100%\"\n            height=\"525px\"\n            src=\"https://plotly.com/~charlesg/14.embed\"\n            frameborder=\"0\"\n            allowfullscreen\n        ></iframe>\n        "
     },
     "execution_count": 9,
     "metadata": {},
     "output_type": "execute_result"
    }
   ],
   "source": [
    "fig = make_subplots(rows=4, cols=2,shared_xaxes=True,\n",
    "                   subplot_titles=('US','Canada','Spain','Italy','Chile','Brazl','China','South Korea',))\n",
    "\n",
    "fig.update_xaxes(title_text=\"Number of Days since Outbreak\", row=4, col=1)\n",
    "\n",
    "fig.update_xaxes(title_text=\"Number of Days since Outbreak\", row=4, col=2)\n",
    "\n",
    "fig.add_trace(go.Scatter(x=USGrowth.index,y=USGrowth['Total Confirmed Cases'],\n",
    "                         mode='lines+markers',\n",
    "                         name='Active Cases',\n",
    "                         line=dict(color=chartcol,width=2)),\n",
    "                          row=1,col=1)  \n",
    "\n",
    "fig.add_trace(go.Scatter(x=CanadaGrowth.index,y=CanadaGrowth['Total Confirmed Cases'],\n",
    "                         mode='lines+markers',\n",
    "                         name='Active Cases',\n",
    "                         line=dict(color=chartcol,width=2)),\n",
    "                          row=1,col=2)  \n",
    "\n",
    "fig.add_trace(go.Scatter(x=SpainGrowth.index,y=SpainGrowth['Total Confirmed Cases'],\n",
    "                         mode='lines+markers',\n",
    "                         name='Active Cases',\n",
    "                         line=dict(color=chartcol,width=2)),\n",
    "                          row=2,col=1)\n",
    "\n",
    "fig.add_trace(go.Scatter(x=ItalyGrowth.index,y=ItalyGrowth['Total Confirmed Cases'],\n",
    "                         mode='lines+markers',\n",
    "                         name='Active Cases',\n",
    "                         line=dict(color=chartcol,width=2)),\n",
    "                          row=2,col=2)\n",
    "\n",
    "fig.add_trace(go.Scatter(x=ChileGrowth.index,y=ChileGrowth['Total Confirmed Cases'],\n",
    "                         mode='lines+markers',\n",
    "                         name='Active Cases',\n",
    "                         line=dict(color=chartcol,width=2)),\n",
    "                          row=3,col=1)\n",
    "\n",
    "fig.add_trace(go.Scatter(x=BrazilGrowth.index,y=BrazilGrowth['Total Confirmed Cases'],\n",
    "                         mode='lines+markers',\n",
    "                         name='Active Cases',\n",
    "                         line=dict(color=chartcol,width=2)),\n",
    "                          row=3,col=2)\n",
    "\n",
    "fig.add_trace(go.Scatter(x=ChinaGrowth.index,y=ChinaGrowth['Total Confirmed Cases'],\n",
    "                         mode='lines+markers',\n",
    "                         name='Active Cases',\n",
    "                         line=dict(color=chartcol,width=2)),\n",
    "                          row=4,col=1)\n",
    "                   \n",
    "fig.add_trace(go.Scatter(x=SKGrowth.index,y=SKGrowth['Total Confirmed Cases'],\n",
    "                         mode='lines+markers',\n",
    "                         name='Active Cases',\n",
    "                         line=dict(color=chartcol,width=2)),\n",
    "                          row=4,col=2)    \n",
    "                           \n",
    "\n",
    "fig.update_layout(showlegend=False)\n",
    "\n",
    "py.iplot(fig,filename='Confirmed Cases in Countries of Interest')"
   ]
  },
  {
   "cell_type": "markdown",
   "metadata": {
    "cell_id": "0d7aff25-5f02-4709-8885-6bbf01973f2f",
    "tags": []
   },
   "source": [
    "## Step 6 - All indicators for the US\n",
    "\n",
    "We revisit our key indicators:\n",
    "* Confirmed Cases\n",
    "* Active Cases\n",
    "* Deaths\n",
    "* Recoveries\n",
    "* and the \"Death to Case\" ratio\n",
    "\n",
    "but focusing our plots on the US only."
   ]
  },
  {
   "cell_type": "code",
   "execution_count": 10,
   "metadata": {
    "cell_id": "e2e09839-8fb9-4bd2-a68c-94901cf78159",
    "tags": []
   },
   "outputs": [
    {
     "data": {
      "text/plain": "<IPython.lib.display.IFrame at 0x116e01208>",
      "text/html": "\n        <iframe\n            width=\"100%\"\n            height=\"525px\"\n            src=\"https://plotly.com/~charlesg/19.embed\"\n            frameborder=\"0\"\n            allowfullscreen\n        ></iframe>\n        "
     },
     "execution_count": 10,
     "metadata": {},
     "output_type": "execute_result"
    }
   ],
   "source": [
    "def plotcountry(Country):\n",
    "    fig = make_subplots(rows=2, cols=2,shared_xaxes=True,\n",
    "                    specs=[[{}, {}],[{\"colspan\": 2}, None]],\n",
    "                    subplot_titles=('Total Confirmed Cases','Deaths','Death to Cases Ratio'))\n",
    "    fig.add_trace(go.Scatter(x=CountryConsolidated.loc[Country].index,y=CountryConsolidated.loc[Country,'Total Confirmed Cases'],\n",
    "                         mode='lines+markers',\n",
    "                         name='Confirmed Cases',\n",
    "                         line=dict(color=chartcol,width=2)),\n",
    "                         row=1,col=1)\n",
    "    fig.add_trace(go.Scatter(x=CountryConsolidated.loc[Country].index,y=CountryConsolidated.loc[Country,'Total Deaths'],\n",
    "                         mode='lines+markers',\n",
    "                         name='Total Deaths',\n",
    "                         line=dict(color=chartcol,width=2)),\n",
    "                         row=1,col=2)\n",
    "    fig.add_trace(go.Scatter(x=CountryConsolidated.loc[Country].index,y=CountryConsolidated.loc[Country,'Death to Cases Ratio'],\n",
    "                         mode='lines+markers',\n",
    "                         name='Death to Cases Ratio',\n",
    "                         line=dict(color=chartcol,width=2)),\n",
    "                         row=2,col=1)\n",
    "    fig.update_layout(showlegend=False, title_text=\"Data for %s\" % Country)\n",
    "    \n",
    "    return fig\n",
    "\n",
    "#CountriesList=['Germany','Mainland China','US','Italy','France','Pakistan','Korea, South','Japan','Singapore']\n",
    "#interact(plotcountry, Country=widgets.Dropdown(options=CountriesList))\n",
    "#plotcountry('Canada')\n",
    "#plotcountry('US')\n",
    "py.iplot(plotcountry('US'),filename='Data for US')"
   ]
  },
  {
   "cell_type": "code",
   "execution_count": 11,
   "metadata": {
    "cell_id": "1b1f7ce7-ad63-4469-b56b-52c94cc6ac24",
    "tags": []
   },
   "outputs": [
    {
     "data": {
      "text/plain": "<IPython.lib.display.IFrame at 0x11736bd30>",
      "text/html": "\n        <iframe\n            width=\"100%\"\n            height=\"525px\"\n            src=\"https://plotly.com/~charlesg/21.embed\"\n            frameborder=\"0\"\n            allowfullscreen\n        ></iframe>\n        "
     },
     "execution_count": 11,
     "metadata": {},
     "output_type": "execute_result"
    }
   ],
   "source": [
    "#plotcountry('Canada')\n",
    "py.iplot(plotcountry('Canada'),filename='Data for Canada')"
   ]
  },
  {
   "cell_type": "code",
   "execution_count": 12,
   "outputs": [
    {
     "data": {
      "text/plain": "<IPython.lib.display.IFrame at 0x117b512e8>",
      "text/html": "\n        <iframe\n            width=\"100%\"\n            height=\"525px\"\n            src=\"https://plotly.com/~charlesg/160.embed\"\n            frameborder=\"0\"\n            allowfullscreen\n        ></iframe>\n        "
     },
     "execution_count": 12,
     "metadata": {},
     "output_type": "execute_result"
    }
   ],
   "source": [
    "py.iplot(plotcountry('Brazil'),filename='Data for Brazil')"
   ],
   "metadata": {
    "collapsed": false,
    "pycharm": {
     "name": "#%%\n"
    }
   }
  },
  {
   "cell_type": "markdown",
   "metadata": {
    "cell_id": "006e68bb-6be1-4a7f-bdf8-f02e4f65fc0e",
    "tags": []
   },
   "source": [
    "## Step 7 - Daily new cases\n",
    "\n",
    "One metric important to track for the recovery IMO, is the number of new cases per day. In these charts, we compare the number of new cases per for 4 countries:\n",
    "* US\n",
    "* Canada\n",
    "* China\n",
    "* and South Korea"
   ]
  },
  {
   "cell_type": "code",
   "execution_count": 15,
   "metadata": {
    "cell_id": "f3aea0e8-00c2-4b42-afa6-2d4fe4db237f",
    "tags": []
   },
   "outputs": [
    {
     "data": {
      "text/plain": "<IPython.lib.display.IFrame at 0x11736b048>",
      "text/html": "\n        <iframe\n            width=\"100%\"\n            height=\"525px\"\n            src=\"https://plotly.com/~charlesg/28.embed\"\n            frameborder=\"0\"\n            allowfullscreen\n        ></iframe>\n        "
     },
     "execution_count": 15,
     "metadata": {},
     "output_type": "execute_result"
    }
   ],
   "source": [
    "USNewCases=CountryConsolidated.loc['US']['Daily New Cases'].reset_index().set_index('Date')\n",
    "CanadaNewCases=CountryConsolidated.loc['Canada']['Daily New Cases'].reset_index().set_index('Date')\n",
    "ChinaNewCases=CountryConsolidated.loc['China']['Daily New Cases'].reset_index().set_index('Date')\n",
    "SKNewCases=CountryConsolidated.loc['Korea, South']['Daily New Cases'].reset_index().set_index('Date')\n",
    "ChileNewCases=CountryConsolidated.loc['Chile']['Daily New Cases'].reset_index().set_index('Date')\n",
    "IranNewCases=CountryConsolidated.loc['Iran']['Daily New Cases'].reset_index().set_index('Date')\n",
    "SpainNewCases=CountryConsolidated.loc['Spain']['Daily New Cases'].reset_index().set_index('Date')\n",
    "ItalyNewCases=CountryConsolidated.loc['Italy']['Daily New Cases'].reset_index().set_index('Date')\n",
    "\n",
    "fig = make_subplots(rows=4, cols=2,shared_xaxes=True,\n",
    "                   subplot_titles=('US','Canada', 'Spain', 'Italy', 'Chile', 'Iran', 'China','South Korea'))\n",
    "\n",
    "fig.update_xaxes(title_text=\"Daily New Cases\", row=4, col=1)\n",
    "fig.update_xaxes(title_text=\"Daily New Cases\", row=4, col=2)\n",
    "\n",
    "fig.add_trace(go.Bar(x=USNewCases.index,y=USNewCases['Daily New Cases'],\n",
    "                         name='Daily New Cases',\n",
    "                         ),\n",
    "                          row=1,col=1)  \n",
    "\n",
    "fig.add_trace(go.Bar(x=CanadaNewCases.index,y=CanadaNewCases['Daily New Cases'],\n",
    "                         name='Daily New Cases',\n",
    "                         ),\n",
    "                          row=1,col=2)  \n",
    "\n",
    "fig.add_trace(go.Bar(x=SpainNewCases.index,y=SpainNewCases['Daily New Cases'],\n",
    "                         name='Daily New Cases',\n",
    "                         ),\n",
    "                          row=2,col=1)  \n",
    "\n",
    "fig.add_trace(go.Bar(x=ItalyNewCases.index,y=ItalyNewCases['Daily New Cases'],\n",
    "                         name='Daily New Cases',\n",
    "                         ),\n",
    "                          row=2,col=2)  \n",
    "\n",
    "fig.add_trace(go.Bar(x=ChileNewCases.index,y=ChileNewCases['Daily New Cases'],\n",
    "                         name='Daily New Cases',\n",
    "                         ),\n",
    "                          row=3,col=1)  \n",
    "\n",
    "fig.add_trace(go.Bar(x=IranNewCases.index,y=IranNewCases['Daily New Cases'],\n",
    "                         name='Daily New Cases',\n",
    "                         ),\n",
    "                          row=3,col=2)  \n",
    "\n",
    "fig.add_trace(go.Bar(x=ChinaNewCases.index,y=ChinaNewCases['Daily New Cases'],\n",
    "                         name='Daily New Cases',\n",
    "                         ),\n",
    "                          row=4,col=1)  \n",
    "\n",
    "fig.add_trace(go.Bar(x=SKNewCases.index,y=SKNewCases['Daily New Cases'],\n",
    "                         name='Daily New Cases',\n",
    "                         ),\n",
    "                          row=4,col=2)\n",
    "\n",
    "fig.update_layout(showlegend=False)\n",
    "\n",
    "py.iplot(fig,filename='Daily New Cases')\n"
   ]
  },
  {
   "cell_type": "code",
   "execution_count": null,
   "metadata": {
    "cell_id": "dac6be04-c0a4-4590-ac2d-e47150ddf597",
    "tags": []
   },
   "outputs": [],
   "source": [
    "#!pip install statsmodels"
   ]
  },
  {
   "cell_type": "code",
   "execution_count": 16,
   "metadata": {
    "cell_id": "19d3e318-d9c2-4a92-bb25-37b829e06867",
    "tags": []
   },
   "outputs": [
    {
     "data": {
      "text/plain": "<IPython.lib.display.IFrame at 0x11731b860>",
      "text/html": "\n        <iframe\n            width=\"100%\"\n            height=\"525px\"\n            src=\"https://plotly.com/~charlesg/30.embed\"\n            frameborder=\"0\"\n            allowfullscreen\n        ></iframe>\n        "
     },
     "execution_count": 16,
     "metadata": {},
     "output_type": "execute_result"
    }
   ],
   "source": [
    "figUS = px.scatter(x=CountryConsolidated.loc['US','Total Confirmed Cases'], y=USNewCases['Daily New Cases'], trendline=\"ols\")\n",
    "trendlineUS = figUS.data[1] # The second trace is the trendline\n",
    "\n",
    "figCAD = px.scatter(x=CountryConsolidated.loc['Canada','Total Confirmed Cases'], y=CanadaNewCases['Daily New Cases'], trendline=\"ols\")\n",
    "trendlineCAD = figCAD.data[1] # The second trace is the trendline\n",
    "\n",
    "figChina = px.scatter(x=CountryConsolidated.loc['China','Total Confirmed Cases'], y=ChinaNewCases['Daily New Cases'], trendline=\"ols\")\n",
    "trendlineChina = figChina.data[1] # The second trace is the trendline\n",
    "\n",
    "figSpain = px.scatter(x=CountryConsolidated.loc['Spain','Total Confirmed Cases'], y=SpainNewCases['Daily New Cases'], trendline=\"ols\")\n",
    "trendlineSpain = figSpain.data[1] # The second trace is the trendline\n",
    "\n",
    "figSK = px.scatter(x=CountryConsolidated.loc['Korea, South','Total Confirmed Cases'], y=SKNewCases['Daily New Cases'], trendline=\"ols\")\n",
    "trendlineSK = figSK.data[1] # The second trace is the trendline\n",
    "\n",
    "fig = go.Figure(go.Scatter(x=CountryConsolidated.loc['US','Total Confirmed Cases'], y=USNewCases['Daily New Cases'],\n",
    "            mode='markers',\n",
    "            name='US'))\n",
    "\n",
    "fig.add_trace(go.Scatter(x=CountryConsolidated.loc['Canada','Total Confirmed Cases'], y=CanadaNewCases['Daily New Cases'],\n",
    "            mode='markers',\n",
    "            name='Canada'))\n",
    "\n",
    "fig.add_trace(go.Scatter(x=CountryConsolidated.loc['China','Total Confirmed Cases'], y=ChinaNewCases['Daily New Cases'],\n",
    "            mode='markers',\n",
    "            name='China'))\n",
    "\n",
    "fig.add_trace(go.Scatter(x=CountryConsolidated.loc['Spain','Total Confirmed Cases'], y=SpainNewCases['Daily New Cases'],\n",
    "            mode='markers',\n",
    "            name='Spain'))\n",
    "\n",
    "fig.add_trace(go.Scatter(x=CountryConsolidated.loc['Korea, South','Total Confirmed Cases'], y=SKNewCases['Daily New Cases'],\n",
    "            mode='markers',\n",
    "            name='South Korea'))\n",
    "\n",
    "fig.add_trace(go.Scatter(x=CountryConsolidated.loc['Italy','Total Confirmed Cases'], y=ItalyNewCases['Daily New Cases'],\n",
    "            mode='markers',\n",
    "            name='Italy'))\n",
    "\n",
    "\n",
    "fig.update_layout(xaxis_type='log', yaxis_type='log')\n",
    "fig.update_xaxes(title_text=\"Confirmed Cases\")\n",
    "fig.update_yaxes(title_text=\"New Cases\")\n",
    "\n",
    "py.iplot(fig,filename='COVID Trend Plot')"
   ]
  }
 ],
 "metadata": {
  "deepnote_execution_queue": [],
  "deepnote_notebook_id": "ed7ccadd-9b8b-46fb-8b54-ceeac03f0029",
  "kernelspec": {
   "name": "python3",
   "language": "python",
   "display_name": "Python 3"
  },
  "language_info": {
   "codemirror_mode": {
    "name": "ipython",
    "version": 3
   },
   "file_extension": ".py",
   "mimetype": "text/x-python",
   "name": "python",
   "nbconvert_exporter": "python",
   "pygments_lexer": "ipython3",
   "version": "3.7.3-final"
  }
 },
 "nbformat": 4,
 "nbformat_minor": 2
}